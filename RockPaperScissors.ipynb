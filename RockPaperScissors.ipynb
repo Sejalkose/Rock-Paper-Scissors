{
  "nbformat": 4,
  "nbformat_minor": 0,
  "metadata": {
    "colab": {
      "provenance": [],
      "authorship_tag": "ABX9TyNCjjeOxMoQH2gvBCXZfM0C",
      "include_colab_link": true
    },
    "kernelspec": {
      "name": "python3",
      "display_name": "Python 3"
    },
    "language_info": {
      "name": "python"
    }
  },
  "cells": [
    {
      "cell_type": "markdown",
      "metadata": {
        "id": "view-in-github",
        "colab_type": "text"
      },
      "source": [
        "<a href=\"https://colab.research.google.com/github/Sejalkose/Rock-Paper-Scissors/blob/main/RockPaperScissors.ipynb\" target=\"_parent\"><img src=\"https://colab.research.google.com/assets/colab-badge.svg\" alt=\"Open In Colab\"/></a>"
      ]
    },
    {
      "cell_type": "code",
      "source": [
        "import random\n",
        "\n",
        "rock = '''\n",
        "    _______\n",
        "---'   ____)\n",
        "      (_____)\n",
        "      (_____)\n",
        "      (____)\n",
        "---.__(___)\n",
        "'''\n",
        "\n",
        "paper = '''\n",
        "    _______\n",
        "---'   ____)____\n",
        "          ______)\n",
        "          _______)\n",
        "         _______)\n",
        "---.__________)\n",
        "'''\n",
        "\n",
        "scissors = '''\n",
        "    _______\n",
        "---'   ____)____\n",
        "          ______)\n",
        "       __________)\n",
        "      (____)\n",
        "---.__(___)\n",
        "'''\n",
        "\n",
        "#its a list but we wont put the in \" \" because we want the value of those.\n",
        "game_images =[rock,paper,scissors]\n",
        "user_choice = int(input(\"What do you choose? Type 0 for Rock, 1 for Paper or 2 for Scissors.\\n\"))\n",
        "print(game_images[user_choice])\n",
        "\n",
        "computer_choice = random.randint(0,2)\n",
        "print(\"Computer choice: \")\n",
        "print(game_images[computer_choice])\n",
        "\n",
        "\n",
        "#will tell about the invalid number\n",
        "if user_choice >=3 or user_choice < 0:\n",
        "  print(\"You typed an invalid number.\")\n",
        "\n",
        "#different case as scissors cant beat rock\n",
        "elif(user_choice == 0 and computer_choice ==2):\n",
        "  print(\"You win!\")\n",
        "\n",
        "#different case\n",
        "elif(computer_choice ==0 and user_choice ==2):\n",
        "  print(\"Computer wins!\")\n",
        "\n",
        "#for normal case as scissor beat ppr and ppr beats rock\n",
        "elif(user_choice > computer_choice):\n",
        "  print(\"You win!\")\n",
        "\n",
        "elif(computer_choice > user_choice):\n",
        "  print(\"Coputer wins!\")\n",
        "\n",
        "elif(user_choice == computer_choice):\n",
        "  print(\"It's a draw!\")"
      ],
      "metadata": {
        "colab": {
          "base_uri": "https://localhost:8080/"
        },
        "id": "wqxoBdWmfyp3",
        "outputId": "7b108a50-9c16-456e-f4a3-0aafa0ef3a6b"
      },
      "execution_count": 8,
      "outputs": [
        {
          "output_type": "stream",
          "name": "stdout",
          "text": [
            "What do you choose? Type 0 for Rock, 1 for Paper or 2 for Scissors.\n",
            "0\n",
            "\n",
            "    _______\n",
            "---'   ____)\n",
            "      (_____)\n",
            "      (_____)\n",
            "      (____)\n",
            "---.__(___)\n",
            "\n",
            "Computer choice: \n",
            "\n",
            "    _______\n",
            "---'   ____)____\n",
            "          ______)\n",
            "       __________)\n",
            "      (____)\n",
            "---.__(___)\n",
            "\n",
            "You win!\n"
          ]
        }
      ]
    }
  ]
}